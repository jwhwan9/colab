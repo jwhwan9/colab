{
  "cells": [
    {
      "cell_type": "markdown",
      "metadata": {
        "id": "view-in-github",
        "colab_type": "text"
      },
      "source": [
        "<a href=\"https://colab.research.google.com/github/jwhwan9/colab/blob/main/preparation_5_minutes_pytorch_tensor_playground.ipynb\" target=\"_parent\"><img src=\"https://colab.research.google.com/assets/colab-badge.svg\" alt=\"Open In Colab\"/></a>"
      ]
    },
    {
      "cell_type": "markdown",
      "metadata": {
        "id": "_C9k1NKaKVg2"
      },
      "source": [
        "# Tensor in PyTorch\n",
        "In `pytorch`, we use `torch.Tensor` object to represent data matrix. It is a lot like `numpy` array but not quite the same. `torch` provide APIs to easily convert data between `numpy` array and `torch.Tensor`. Let's play a little bit."
      ]
    },
    {
      "cell_type": "code",
      "execution_count": null,
      "metadata": {
        "id": "lVkauOzJKVg5"
      },
      "outputs": [],
      "source": [
        "from __future__ import print_function\n",
        "import numpy as np\n",
        "import torch"
      ]
    },
    {
      "cell_type": "markdown",
      "metadata": {
        "id": "3ZF1QCKaKVg7"
      },
      "source": [
        "Converting a numpy into `torch.Tensor` can be done by a constructor. Bringing it back into `numpy` array is also a simple `numpy()` function call. The `torch.Tensor` constructor takes any _python array-like_ objects (of the same types), so we can also construct from a list of integers."
      ]
    },
    {
      "cell_type": "code",
      "execution_count": null,
      "metadata": {
        "id": "oUyfsZt7KVg7",
        "outputId": "a0679aa4-324a-4c27-bc04-dd6031255391"
      },
      "outputs": [
        {
          "name": "stdout",
          "output_type": "stream",
          "text": [
            "Numpy data\n",
            " [[1. 0. 0. 0. 0. 0. 0. 0. 0. 0.]\n",
            " [0. 1. 0. 0. 0. 0. 0. 0. 0. 0.]\n",
            " [0. 0. 1. 0. 0. 0. 0. 0. 0. 0.]\n",
            " [0. 0. 0. 1. 0. 0. 0. 0. 0. 0.]\n",
            " [0. 0. 0. 0. 1. 0. 0. 0. 0. 0.]\n",
            " [0. 0. 0. 0. 0. 1. 0. 0. 0. 0.]\n",
            " [0. 0. 0. 0. 0. 0. 1. 0. 0. 0.]\n",
            " [0. 0. 0. 0. 0. 0. 0. 1. 0. 0.]\n",
            " [0. 0. 0. 0. 0. 0. 0. 0. 1. 0.]\n",
            " [0. 0. 0. 0. 0. 0. 0. 0. 0. 1.]]\n",
            "\n",
            "torch.Tensor data\n",
            " tensor([[1., 0., 0., 0., 0., 0., 0., 0., 0., 0.],\n",
            "        [0., 1., 0., 0., 0., 0., 0., 0., 0., 0.],\n",
            "        [0., 0., 1., 0., 0., 0., 0., 0., 0., 0.],\n",
            "        [0., 0., 0., 1., 0., 0., 0., 0., 0., 0.],\n",
            "        [0., 0., 0., 0., 1., 0., 0., 0., 0., 0.],\n",
            "        [0., 0., 0., 0., 0., 1., 0., 0., 0., 0.],\n",
            "        [0., 0., 0., 0., 0., 0., 1., 0., 0., 0.],\n",
            "        [0., 0., 0., 0., 0., 0., 0., 1., 0., 0.],\n",
            "        [0., 0., 0., 0., 0., 0., 0., 0., 1., 0.],\n",
            "        [0., 0., 0., 0., 0., 0., 0., 0., 0., 1.]])\n",
            "\n",
            "Numpy data (converted back from torch.Tensor)\n",
            " [[1. 0. 0. 0. 0. 0. 0. 0. 0. 0.]\n",
            " [0. 1. 0. 0. 0. 0. 0. 0. 0. 0.]\n",
            " [0. 0. 1. 0. 0. 0. 0. 0. 0. 0.]\n",
            " [0. 0. 0. 1. 0. 0. 0. 0. 0. 0.]\n",
            " [0. 0. 0. 0. 1. 0. 0. 0. 0. 0.]\n",
            " [0. 0. 0. 0. 0. 1. 0. 0. 0. 0.]\n",
            " [0. 0. 0. 0. 0. 0. 1. 0. 0. 0.]\n",
            " [0. 0. 0. 0. 0. 0. 0. 1. 0. 0.]\n",
            " [0. 0. 0. 0. 0. 0. 0. 0. 1. 0.]\n",
            " [0. 0. 0. 0. 0. 0. 0. 0. 0. 1.]]\n",
            "\n",
            "Python list : [1, 2, 3]\n",
            "torch.Tensor: tensor([1., 2., 3.])\n"
          ]
        }
      ],
      "source": [
        "# Create numpy array\n",
        "data_np = np.zeros([10,10],dtype=np.float32)\n",
        "# Fill something\n",
        "np.fill_diagonal(data_np,1.)\n",
        "print('Numpy data\\n',data_np)\n",
        "\n",
        "# Create torch.Tensor\n",
        "data_torch = torch.Tensor(data_np)\n",
        "print('\\ntorch.Tensor data\\n',data_torch)\n",
        "\n",
        "# Bringing back into numpy array\n",
        "data_np = data_torch.numpy()\n",
        "print('\\nNumpy data (converted back from torch.Tensor)\\n',data_np)\n",
        "\n",
        "# One can make also from a list\n",
        "data_list = [1,2,3]\n",
        "data_list_torch = torch.Tensor(data_list)\n",
        "print('\\nPython list :',data_list)\n",
        "print('torch.Tensor:',data_list_torch)"
      ]
    },
    {
      "cell_type": "markdown",
      "metadata": {
        "id": "ZVxI3oF4KVg8"
      },
      "source": [
        "Ordinary operations to an array also exists like `numpy`. A single scalar value can be extracted using a function `item()`."
      ]
    },
    {
      "cell_type": "code",
      "execution_count": null,
      "metadata": {
        "id": "r165le0sKVg8",
        "outputId": "f7c3d04d-1f04-4d47-8111-663170a0a9d1"
      },
      "outputs": [
        {
          "name": "stdout",
          "output_type": "stream",
          "text": [
            "mean 0.10000000149 std 0.301511347294 sum 10.0\n"
          ]
        }
      ],
      "source": [
        "# mean & std\n",
        "print('mean',data_torch.mean().item(),'std',data_torch.std().item(),'sum',data_torch.sum().item())"
      ]
    },
    {
      "cell_type": "markdown",
      "metadata": {
        "id": "lhlG7Yx1KVg9"
      },
      "source": [
        "Common operations include element-wise multiplication, matrix multiplication, and reshaping. Read the [documentation](https://pytorch.org/docs/stable/tensors.html) to find the right function for what you want to do!"
      ]
    },
    {
      "cell_type": "code",
      "execution_count": null,
      "metadata": {
        "id": "VHyoi453KVg9",
        "outputId": "41203178-740d-4dec-a812-9a238b96840e"
      },
      "outputs": [
        {
          "name": "stdout",
          "output_type": "stream",
          "text": [
            "Two numpy matrices\n",
            "[[1. 0. 0.]\n",
            " [0. 1. 0.]\n",
            " [0. 0. 1.]]\n",
            "[[1. 1. 1.]\n",
            " [0. 0. 0.]\n",
            " [0. 0. 0.]] \n",
            "\n",
            "torch.Tensor element-wise multiplication:\n",
            "tensor([[1., 0., 0.],\n",
            "        [0., 0., 0.],\n",
            "        [0., 0., 0.]])\n",
            "\n",
            "torch.Tensor matrix multiplication:\n",
            "tensor([[1., 1., 1.],\n",
            "        [0., 0., 0.],\n",
            "        [0., 0., 0.]])\n"
          ]
        }
      ],
      "source": [
        "# Two matrices\n",
        "data_a = np.zeros([3,3],dtype=np.float32)\n",
        "data_b = np.zeros([3,3],dtype=np.float32)\n",
        "np.fill_diagonal(data_a,1.)\n",
        "data_b[0,:]=1.\n",
        "# print them\n",
        "print('Two numpy matrices')\n",
        "print(data_a)\n",
        "print(data_b,'\\n')\n",
        "\n",
        "# Make torch.Tensor\n",
        "torch_a = torch.Tensor(data_a)\n",
        "torch_b = torch.Tensor(data_b)\n",
        "print('torch.Tensor element-wise multiplication:')\n",
        "print(torch_a*torch_b)\n",
        "print('\\ntorch.Tensor matrix multiplication:')\n",
        "print(torch_a.matmul(torch_b))"
      ]
    },
    {
      "cell_type": "markdown",
      "metadata": {
        "id": "ao-KtTEJKVg-"
      },
      "source": [
        "Putting `torch.Tensor` on GPU is as easy as calling `.cuda()` function (and if you want to bring it back to cpu, call `.cpu()` on a `cuda.Tensor`). Let's do a simple speed comparison!"
      ]
    },
    {
      "cell_type": "code",
      "execution_count": null,
      "metadata": {
        "id": "PZN0n3lmKVg-",
        "outputId": "cc2340c4-7f17-460e-c366-8d9356cc2e9d"
      },
      "outputs": [
        {
          "name": "stdout",
          "output_type": "stream",
          "text": [
            "Using CPU: 0.141505002975 [s]\n",
            "Using GPU: 0.0122509002686 [s]\n"
          ]
        }
      ],
      "source": [
        "# Create 10000x10000 matrix\n",
        "data_np=np.zeros([10000,10000],dtype=np.float32)\n",
        "data_cpu = torch.Tensor(data_np).cpu()\n",
        "data_gpu = torch.Tensor(data_np).cuda()\n",
        "\n",
        "# Compute time in CPU\n",
        "import time\n",
        "t0=time.time()\n",
        "mean = (data_cpu * data_cpu).mean().item()\n",
        "print('Using CPU:',time.time()-t0,'[s]')\n",
        "\n",
        "# Compute time in GPU\n",
        "t0=time.time()\n",
        "mean = (data_gpu * data_gpu).mean().item()\n",
        "print('Using GPU:',time.time()-t0,'[s]')\n"
      ]
    },
    {
      "cell_type": "markdown",
      "metadata": {
        "id": "k40A72IhKVg-"
      },
      "source": [
        "Using, GPU, we get more than x10 acceleration :) Play with `torch.Tensor`. It would be very useful when you want to build a custom network architecture! If you have questions, [contact me](mailto:kterao@slac.stanford.edu)."
      ]
    }
  ],
  "metadata": {
    "kernelspec": {
      "display_name": "Python 2",
      "language": "python",
      "name": "python2"
    },
    "language_info": {
      "codemirror_mode": {
        "name": "ipython",
        "version": 2
      },
      "file_extension": ".py",
      "mimetype": "text/x-python",
      "name": "python",
      "nbconvert_exporter": "python",
      "pygments_lexer": "ipython2",
      "version": "2.7.12"
    },
    "colab": {
      "provenance": [],
      "include_colab_link": true
    }
  },
  "nbformat": 4,
  "nbformat_minor": 0
}