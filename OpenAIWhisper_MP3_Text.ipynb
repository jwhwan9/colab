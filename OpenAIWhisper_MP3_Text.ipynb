{
  "nbformat": 4,
  "nbformat_minor": 0,
  "metadata": {
    "colab": {
      "provenance": [],
      "toc_visible": true,
      "gpuType": "T4",
      "authorship_tag": "ABX9TyNUVs+8WJZHmA7B32vTLJuK",
      "include_colab_link": true
    },
    "kernelspec": {
      "name": "python3",
      "display_name": "Python 3"
    },
    "language_info": {
      "name": "python"
    },
    "accelerator": "GPU"
  },
  "cells": [
    {
      "cell_type": "markdown",
      "metadata": {
        "id": "view-in-github",
        "colab_type": "text"
      },
      "source": [
        "<a href=\"https://colab.research.google.com/github/jwhwan9/colab/blob/main/OpenAIWhisper_MP3_Text.ipynb\" target=\"_parent\"><img src=\"https://colab.research.google.com/assets/colab-badge.svg\" alt=\"Open In Colab\"/></a>"
      ]
    },
    {
      "cell_type": "code",
      "execution_count": 2,
      "metadata": {
        "colab": {
          "base_uri": "https://localhost:8080/"
        },
        "id": "3-gbz41lUWR7",
        "outputId": "067e8629-70b2-43a0-e23c-81a1eadf56e0"
      },
      "outputs": [
        {
          "output_type": "stream",
          "name": "stdout",
          "text": [
            "Collecting git+https://github.com/openai/whisper.git\n",
            "  Cloning https://github.com/openai/whisper.git to /tmp/pip-req-build-7a5aohai\n",
            "  Running command git clone --filter=blob:none --quiet https://github.com/openai/whisper.git /tmp/pip-req-build-7a5aohai\n",
            "  Resolved https://github.com/openai/whisper.git to commit ba3f3cd54b0e5b8ce1ab3de13e32122d0d5f98ab\n",
            "  Installing build dependencies ... \u001b[?25l\u001b[?25hdone\n",
            "  Getting requirements to build wheel ... \u001b[?25l\u001b[?25hdone\n",
            "  Preparing metadata (pyproject.toml) ... \u001b[?25l\u001b[?25hdone\n",
            "Requirement already satisfied: numba in /usr/local/lib/python3.10/dist-packages (from openai-whisper==20231117) (0.60.0)\n",
            "Requirement already satisfied: numpy in /usr/local/lib/python3.10/dist-packages (from openai-whisper==20231117) (1.26.4)\n",
            "Requirement already satisfied: torch in /usr/local/lib/python3.10/dist-packages (from openai-whisper==20231117) (2.4.0+cu121)\n",
            "Requirement already satisfied: tqdm in /usr/local/lib/python3.10/dist-packages (from openai-whisper==20231117) (4.66.5)\n",
            "Requirement already satisfied: more-itertools in /usr/local/lib/python3.10/dist-packages (from openai-whisper==20231117) (10.3.0)\n",
            "Requirement already satisfied: tiktoken in /usr/local/lib/python3.10/dist-packages (from openai-whisper==20231117) (0.7.0)\n",
            "Requirement already satisfied: triton<3,>=2.0.0 in /usr/local/lib/python3.10/dist-packages (from openai-whisper==20231117) (2.3.1)\n",
            "Requirement already satisfied: filelock in /usr/local/lib/python3.10/dist-packages (from triton<3,>=2.0.0->openai-whisper==20231117) (3.15.4)\n",
            "Requirement already satisfied: llvmlite<0.44,>=0.43.0dev0 in /usr/local/lib/python3.10/dist-packages (from numba->openai-whisper==20231117) (0.43.0)\n",
            "Requirement already satisfied: regex>=2022.1.18 in /usr/local/lib/python3.10/dist-packages (from tiktoken->openai-whisper==20231117) (2024.5.15)\n",
            "Requirement already satisfied: requests>=2.26.0 in /usr/local/lib/python3.10/dist-packages (from tiktoken->openai-whisper==20231117) (2.32.3)\n",
            "Requirement already satisfied: typing-extensions>=4.8.0 in /usr/local/lib/python3.10/dist-packages (from torch->openai-whisper==20231117) (4.12.2)\n",
            "Requirement already satisfied: sympy in /usr/local/lib/python3.10/dist-packages (from torch->openai-whisper==20231117) (1.13.2)\n",
            "Requirement already satisfied: networkx in /usr/local/lib/python3.10/dist-packages (from torch->openai-whisper==20231117) (3.3)\n",
            "Requirement already satisfied: jinja2 in /usr/local/lib/python3.10/dist-packages (from torch->openai-whisper==20231117) (3.1.4)\n",
            "Requirement already satisfied: fsspec in /usr/local/lib/python3.10/dist-packages (from torch->openai-whisper==20231117) (2024.6.1)\n",
            "Requirement already satisfied: charset-normalizer<4,>=2 in /usr/local/lib/python3.10/dist-packages (from requests>=2.26.0->tiktoken->openai-whisper==20231117) (3.3.2)\n",
            "Requirement already satisfied: idna<4,>=2.5 in /usr/local/lib/python3.10/dist-packages (from requests>=2.26.0->tiktoken->openai-whisper==20231117) (3.8)\n",
            "Requirement already satisfied: urllib3<3,>=1.21.1 in /usr/local/lib/python3.10/dist-packages (from requests>=2.26.0->tiktoken->openai-whisper==20231117) (2.0.7)\n",
            "Requirement already satisfied: certifi>=2017.4.17 in /usr/local/lib/python3.10/dist-packages (from requests>=2.26.0->tiktoken->openai-whisper==20231117) (2024.8.30)\n",
            "Requirement already satisfied: MarkupSafe>=2.0 in /usr/local/lib/python3.10/dist-packages (from jinja2->torch->openai-whisper==20231117) (2.1.5)\n",
            "Requirement already satisfied: mpmath<1.4,>=1.1.0 in /usr/local/lib/python3.10/dist-packages (from sympy->torch->openai-whisper==20231117) (1.3.0)\n",
            "Hit:1 https://cloud.r-project.org/bin/linux/ubuntu jammy-cran40/ InRelease\n",
            "Hit:2 https://developer.download.nvidia.com/compute/cuda/repos/ubuntu2204/x86_64  InRelease\n",
            "Hit:3 http://archive.ubuntu.com/ubuntu jammy InRelease\n",
            "Ign:4 https://r2u.stat.illinois.edu/ubuntu jammy InRelease\n",
            "Hit:5 http://security.ubuntu.com/ubuntu jammy-security InRelease\n",
            "Hit:6 https://r2u.stat.illinois.edu/ubuntu jammy Release\n",
            "Hit:7 http://archive.ubuntu.com/ubuntu jammy-updates InRelease\n",
            "Hit:9 http://archive.ubuntu.com/ubuntu jammy-backports InRelease\n",
            "Hit:10 https://ppa.launchpadcontent.net/deadsnakes/ppa/ubuntu jammy InRelease\n",
            "Hit:11 https://ppa.launchpadcontent.net/graphics-drivers/ppa/ubuntu jammy InRelease\n",
            "Hit:12 https://ppa.launchpadcontent.net/ubuntugis/ppa/ubuntu jammy InRelease\n",
            "Reading package lists... Done\n",
            "Building dependency tree... Done\n",
            "Reading state information... Done\n",
            "52 packages can be upgraded. Run 'apt list --upgradable' to see them.\n",
            "\u001b[1;33mW: \u001b[0mSkipping acquire of configured file 'main/source/Sources' as repository 'https://r2u.stat.illinois.edu/ubuntu jammy InRelease' does not seem to provide it (sources.list entry misspelt?)\u001b[0m\n",
            "Reading package lists... Done\n",
            "Building dependency tree... Done\n",
            "Reading state information... Done\n",
            "ffmpeg is already the newest version (7:4.4.2-0ubuntu0.22.04.1).\n",
            "0 upgraded, 0 newly installed, 0 to remove and 52 not upgraded.\n"
          ]
        }
      ],
      "source": [
        "!pip install git+https://github.com/openai/whisper.git\n",
        "!sudo apt update && sudo apt install ffmpeg"
      ]
    },
    {
      "cell_type": "code",
      "source": [
        "!whisper \"sample.mp3\" --language Chinese --model large-v2"
      ],
      "metadata": {
        "colab": {
          "base_uri": "https://localhost:8080/"
        },
        "id": "1VJTjsqYVczH",
        "outputId": "ba25eaef-d7c8-4afc-ace8-3fc30fff6142"
      },
      "execution_count": 16,
      "outputs": [
        {
          "output_type": "stream",
          "name": "stdout",
          "text": [
            "100%|█████████████████████████████████████| 2.87G/2.87G [00:54<00:00, 56.4MiB/s]\n",
            "/usr/local/lib/python3.10/dist-packages/whisper/__init__.py:146: FutureWarning: You are using `torch.load` with `weights_only=False` (the current default value), which uses the default pickle module implicitly. It is possible to construct malicious pickle data which will execute arbitrary code during unpickling (See https://github.com/pytorch/pytorch/blob/main/SECURITY.md#untrusted-models for more details). In a future release, the default value for `weights_only` will be flipped to `True`. This limits the functions that could be executed during unpickling. Arbitrary objects will no longer be allowed to be loaded via this mode unless they are explicitly allowlisted by the user via `torch.serialization.add_safe_globals`. We recommend you start setting `weights_only=True` for any use case where you don't have full control of the loaded file. Please open an issue on GitHub for any issues related to this experimental feature.\n",
            "  checkpoint = torch.load(fp, map_location=device)\n",
            "[00:00.000 --> 00:05.000] 大家好\n",
            "[00:05.000 --> 00:08.000] ASK,最近公司辦了一個分享會\n",
            "[00:08.000 --> 00:10.000] 是關於溝通與表達的主題\n",
            "[00:10.000 --> 00:16.000] 會議上會抽選同仁上台發表讀後心得與如何運用在日常的工作內容\n",
            "[00:16.000 --> 00:21.000] 說真的我相當緊張也很擔心自己要上台該如何面對此難題\n",
            "[00:21.000 --> 00:24.000] 常常準備了老半天主題也是自己熟悉的\n",
            "[00:24.000 --> 00:27.000] 但講出來總讓大家覺得無聊或準備不足\n",
            "[00:27.000 --> 00:32.000] 我該如何才能像那些上台總是能侃侃而談的人一樣呢\n",
            "[00:32.000 --> 00:35.000] C. 面對自己口語表達的困難處境\n",
            "[00:35.000 --> 00:39.000] 1. 自己個性上是屬孤僻低社交屬性的人\n",
            "[00:39.000 --> 00:43.000] 2. 平時也很少在眾人面前說話\n",
            "[00:43.000 --> 00:48.000] 3. 即使面對家人或少數同事也經常是句點王\n",
            "[00:48.000 --> 00:50.000] Q. 問題的癥結\n",
            "[00:50.000 --> 00:52.000] 該處理那些課題\n",
            "[00:52.000 --> 00:53.000] 1. 個性孤僻\n",
            "[00:53.000 --> 00:55.000] 太少練習口語講說\n",
            "[00:55.000 --> 00:57.000] 2. 因為個性關係\n",
            "[00:57.000 --> 00:59.000] 想必會刻意迴避眾人互動\n",
            "[00:59.000 --> 01:03.000] 3. 對談方式多為封閉式選項\n",
            "[01:03.000 --> 01:04.000] 是非對錯\n",
            "[01:04.000 --> 01:06.000] 預設有限選擇題\n",
            "[01:06.000 --> 01:07.000] 改善對策\n",
            "[01:07.000 --> 01:08.000] 1. 先不管個性\n",
            "[01:08.000 --> 01:12.000] 任何事情都需要學一些基礎項目後不斷地練習\n",
            "[01:12.000 --> 01:15.000] 口說的部分可以從幾個地方下手\n",
            "[01:15.000 --> 01:16.000] 動作\n",
            "[01:16.000 --> 01:19.000] 平時累積相關詞彙並沒日口說出來\n",
            "[01:19.000 --> 01:20.000] 內容\n",
            "[01:20.000 --> 01:22.000] 形容各式各樣的感官詞彙\n",
            "[01:22.000 --> 01:24.000] 形容春夏秋冬或其他時序的詞彙\n",
            "[01:25.000 --> 01:27.000] 形容你有興趣的項目詞彙\n",
            "[01:27.000 --> 01:29.000] 工作上專業人士常用詞彙\n",
            "[01:29.000 --> 01:33.000] 2. 說話是需要全身上下各種統合練習的\n",
            "[01:33.000 --> 01:34.000] 動作\n",
            "[01:34.000 --> 01:36.000] 強迫自己與人打招呼\n",
            "[01:36.000 --> 01:38.000] 並且多加情緒表達\n",
            "[01:38.000 --> 01:39.000] 內容\n",
            "[01:39.000 --> 01:42.000] 多觀察知名人士或團體組織內這方面的突出人士\n",
            "[01:42.000 --> 01:46.000] 他們在表達時聲調與肢體上與自己有何不同\n",
            "[01:46.000 --> 01:48.000] 可以先從模仿開始\n",
            "[01:48.000 --> 01:52.000] 3. 有意識地以開放式言語來和人互動\n",
            "[01:52.000 --> 01:53.000] 動作\n",
            "[01:53.000 --> 01:56.000] 強迫自己多與人多講一些不同主題的內容\n",
            "[01:56.000 --> 02:00.000] 也不預設立場先聆聽再將個人準備好的內容表達出來\n",
            "[02:00.000 --> 02:01.000] 內容\n",
            "[02:01.000 --> 02:02.000] 包含工作上\n",
            "[02:02.000 --> 02:03.000] 專業上\n",
            "[02:03.000 --> 02:04.000] 家庭\n",
            "[02:04.000 --> 02:05.000] 環境\n",
            "[02:05.000 --> 02:06.000] 個人等主題\n",
            "[02:06.000 --> 02:09.000] 4. 找一些思維框架來套用\n",
            "[02:09.000 --> 02:13.000] 我寫這篇其實就是套用SCQ為框架\n",
            "[02:13.000 --> 02:15.000] S 即情境\n",
            "[02:15.000 --> 02:18.000] Situation 是描述當事者過去的經驗\n",
            "[02:18.000 --> 02:20.000] 目前穩定的狀態和心中的理想\n",
            "[02:20.000 --> 02:22.000] 以及未來的目標\n",
            "[02:22.000 --> 02:24.000] C 即障礙\n",
            "[02:24.000 --> 02:28.000] Tabulation 是假設一個正在顛覆目前穩定狀態的事件\n",
            "[02:28.000 --> 02:31.000] 假設事情的進展變得非常不順利\n",
            "[02:31.000 --> 02:33.000] 或是在目前穩定的狀態中\n",
            "[02:33.000 --> 02:36.000] 發生了嚴重的不良狀態或障礙\n",
            "[02:36.000 --> 02:38.000] Q 即課題\n",
            "[02:38.000 --> 02:41.000] Question 對於所有的問題類型而言\n",
            "[02:41.000 --> 02:42.000] 在分析原因\n",
            "[02:42.000 --> 02:43.000] 緊急處置\n",
            "[02:43.000 --> 02:44.000] 根本處置\n",
            "[02:44.000 --> 02:46.000] 預防策略\n",
            "[02:46.000 --> 02:47.000] 防止復發策略\n",
            "[02:47.000 --> 02:50.000] 選定理想等重要的課題領域當中\n",
            "[02:50.000 --> 02:52.000] Q 都是設定具體課題的步驟\n",
            "[02:52.000 --> 02:54.000] A 即答案\n",
            "[02:54.000 --> 02:57.000] Answer 指的是思考假設性的解答方案\n",
            "[02:57.000 --> 03:00.000] 其中還伴隨了篩選及評價替代方案\n"
          ]
        }
      ]
    },
    {
      "cell_type": "code",
      "source": [
        "!ls"
      ],
      "metadata": {
        "colab": {
          "base_uri": "https://localhost:8080/"
        },
        "id": "bCMSqjgDVvKT",
        "outputId": "b44085a4-315a-4eec-94f9-a902f09e0678"
      },
      "execution_count": 11,
      "outputs": [
        {
          "output_type": "stream",
          "name": "stdout",
          "text": [
            "sample_data  sample.mp3\n"
          ]
        }
      ]
    }
  ]
}